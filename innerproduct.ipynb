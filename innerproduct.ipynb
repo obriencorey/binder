{
 "cells": [
  {
   "cell_type": "code",
   "execution_count": null,
   "metadata": {},
   "outputs": [],
   "source": [
    "from sympy import *\n",
    "init_printing(use_unicode=False, wrap_line=False)\n",
    "\n",
    "def InnerProduct(f,g,tau):\n",
    "    return integrate(f * conjugate(g),(t,0,tau))/tau\n",
    "\n",
    "t = Symbol('t', real=True)\n",
    "k = Symbol('k', integer=True, nonzero=True)\n",
    "\n",
    "f1 = t**2\n",
    "g1 = exp(2 * I * k * t)\n",
    "expr2 = InnerProduct(f1,g1,2*pi)\n",
    "expr2.simplify()"
   ]
  }
 ],
 "metadata": {
  "kernelspec": {
   "display_name": "Python 3",
   "language": "python",
   "name": "python3"
  },
  "language_info": {
   "codemirror_mode": {
    "name": "ipython",
    "version": 3
   },
   "file_extension": ".py",
   "mimetype": "text/x-python",
   "name": "python",
   "nbconvert_exporter": "python",
   "pygments_lexer": "ipython3",
   "version": "3.7.8"
  }
 },
 "nbformat": 4,
 "nbformat_minor": 4
}
